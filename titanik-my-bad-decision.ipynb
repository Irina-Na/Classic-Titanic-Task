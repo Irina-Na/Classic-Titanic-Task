{
 "cells": [
  {
   "cell_type": "code",
   "execution_count": 1,
   "metadata": {
    "execution": {
     "iopub.execute_input": "2020-11-20T09:22:57.766910Z",
     "iopub.status.busy": "2020-11-20T09:22:57.766058Z",
     "iopub.status.idle": "2020-11-20T09:23:00.338366Z",
     "shell.execute_reply": "2020-11-20T09:23:00.337644Z"
    },
    "papermill": {
     "duration": 2.611567,
     "end_time": "2020-11-20T09:23:00.338504",
     "exception": false,
     "start_time": "2020-11-20T09:22:57.726937",
     "status": "completed"
    },
    "tags": []
   },
   "outputs": [
    {
     "name": "stdout",
     "output_type": "stream",
     "text": [
      "Populating the interactive namespace from numpy and matplotlib\n"
     ]
    }
   ],
   "source": [
    "import numpy as np\n",
    "import pandas as pd\n",
    "import seaborn as sns\n",
    "import scipy.optimize as sp\n",
    "import matplotlib.pyplot as plt\n",
    "%matplotlib inline\n",
    "from collections import Counter\n",
    "import xgboost as xgb\n",
    "%pylab inline\n",
    "\n",
    "from sklearn.linear_model import LogisticRegression\n",
    "from sklearn.model_selection import GridSearchCV\n",
    "from sklearn.metrics import roc_auc_score\n",
    "from sklearn import linear_model, model_selection, metrics, tree, ensemble \n"
   ]
  },
  {
   "cell_type": "markdown",
   "metadata": {
    "papermill": {
     "duration": 0.019749,
     "end_time": "2020-11-20T09:23:00.379985",
     "exception": false,
     "start_time": "2020-11-20T09:23:00.360236",
     "status": "completed"
    },
    "tags": []
   },
   "source": [
    "# Reading and exploring data."
   ]
  },
  {
   "cell_type": "code",
   "execution_count": 2,
   "metadata": {
    "execution": {
     "iopub.execute_input": "2020-11-20T09:23:00.434826Z",
     "iopub.status.busy": "2020-11-20T09:23:00.433538Z",
     "iopub.status.idle": "2020-11-20T09:23:00.475469Z",
     "shell.execute_reply": "2020-11-20T09:23:00.476414Z"
    },
    "papermill": {
     "duration": 0.076631,
     "end_time": "2020-11-20T09:23:00.476665",
     "exception": false,
     "start_time": "2020-11-20T09:23:00.400034",
     "status": "completed"
    },
    "tags": []
   },
   "outputs": [
    {
     "data": {
      "text/html": [
       "<div>\n",
       "<style scoped>\n",
       "    .dataframe tbody tr th:only-of-type {\n",
       "        vertical-align: middle;\n",
       "    }\n",
       "\n",
       "    .dataframe tbody tr th {\n",
       "        vertical-align: top;\n",
       "    }\n",
       "\n",
       "    .dataframe thead th {\n",
       "        text-align: right;\n",
       "    }\n",
       "</style>\n",
       "<table border=\"1\" class=\"dataframe\">\n",
       "  <thead>\n",
       "    <tr style=\"text-align: right;\">\n",
       "      <th></th>\n",
       "      <th>Survived</th>\n",
       "      <th>Pclass</th>\n",
       "      <th>Name</th>\n",
       "      <th>Sex</th>\n",
       "      <th>Age</th>\n",
       "      <th>SibSp</th>\n",
       "      <th>Parch</th>\n",
       "      <th>Ticket</th>\n",
       "      <th>Fare</th>\n",
       "      <th>Cabin</th>\n",
       "      <th>Embarked</th>\n",
       "    </tr>\n",
       "    <tr>\n",
       "      <th>PassengerId</th>\n",
       "      <th></th>\n",
       "      <th></th>\n",
       "      <th></th>\n",
       "      <th></th>\n",
       "      <th></th>\n",
       "      <th></th>\n",
       "      <th></th>\n",
       "      <th></th>\n",
       "      <th></th>\n",
       "      <th></th>\n",
       "      <th></th>\n",
       "    </tr>\n",
       "  </thead>\n",
       "  <tbody>\n",
       "    <tr>\n",
       "      <th>1</th>\n",
       "      <td>0</td>\n",
       "      <td>3</td>\n",
       "      <td>Braund, Mr. Owen Harris</td>\n",
       "      <td>male</td>\n",
       "      <td>22.0</td>\n",
       "      <td>1</td>\n",
       "      <td>0</td>\n",
       "      <td>A/5 21171</td>\n",
       "      <td>7.2500</td>\n",
       "      <td>NaN</td>\n",
       "      <td>S</td>\n",
       "    </tr>\n",
       "    <tr>\n",
       "      <th>2</th>\n",
       "      <td>1</td>\n",
       "      <td>1</td>\n",
       "      <td>Cumings, Mrs. John Bradley (Florence Briggs Th...</td>\n",
       "      <td>female</td>\n",
       "      <td>38.0</td>\n",
       "      <td>1</td>\n",
       "      <td>0</td>\n",
       "      <td>PC 17599</td>\n",
       "      <td>71.2833</td>\n",
       "      <td>C85</td>\n",
       "      <td>C</td>\n",
       "    </tr>\n",
       "    <tr>\n",
       "      <th>3</th>\n",
       "      <td>1</td>\n",
       "      <td>3</td>\n",
       "      <td>Heikkinen, Miss. Laina</td>\n",
       "      <td>female</td>\n",
       "      <td>26.0</td>\n",
       "      <td>0</td>\n",
       "      <td>0</td>\n",
       "      <td>STON/O2. 3101282</td>\n",
       "      <td>7.9250</td>\n",
       "      <td>NaN</td>\n",
       "      <td>S</td>\n",
       "    </tr>\n",
       "    <tr>\n",
       "      <th>4</th>\n",
       "      <td>1</td>\n",
       "      <td>1</td>\n",
       "      <td>Futrelle, Mrs. Jacques Heath (Lily May Peel)</td>\n",
       "      <td>female</td>\n",
       "      <td>35.0</td>\n",
       "      <td>1</td>\n",
       "      <td>0</td>\n",
       "      <td>113803</td>\n",
       "      <td>53.1000</td>\n",
       "      <td>C123</td>\n",
       "      <td>S</td>\n",
       "    </tr>\n",
       "    <tr>\n",
       "      <th>5</th>\n",
       "      <td>0</td>\n",
       "      <td>3</td>\n",
       "      <td>Allen, Mr. William Henry</td>\n",
       "      <td>male</td>\n",
       "      <td>35.0</td>\n",
       "      <td>0</td>\n",
       "      <td>0</td>\n",
       "      <td>373450</td>\n",
       "      <td>8.0500</td>\n",
       "      <td>NaN</td>\n",
       "      <td>S</td>\n",
       "    </tr>\n",
       "    <tr>\n",
       "      <th>6</th>\n",
       "      <td>0</td>\n",
       "      <td>3</td>\n",
       "      <td>Moran, Mr. James</td>\n",
       "      <td>male</td>\n",
       "      <td>NaN</td>\n",
       "      <td>0</td>\n",
       "      <td>0</td>\n",
       "      <td>330877</td>\n",
       "      <td>8.4583</td>\n",
       "      <td>NaN</td>\n",
       "      <td>Q</td>\n",
       "    </tr>\n",
       "    <tr>\n",
       "      <th>7</th>\n",
       "      <td>0</td>\n",
       "      <td>1</td>\n",
       "      <td>McCarthy, Mr. Timothy J</td>\n",
       "      <td>male</td>\n",
       "      <td>54.0</td>\n",
       "      <td>0</td>\n",
       "      <td>0</td>\n",
       "      <td>17463</td>\n",
       "      <td>51.8625</td>\n",
       "      <td>E46</td>\n",
       "      <td>S</td>\n",
       "    </tr>\n",
       "    <tr>\n",
       "      <th>8</th>\n",
       "      <td>0</td>\n",
       "      <td>3</td>\n",
       "      <td>Palsson, Master. Gosta Leonard</td>\n",
       "      <td>male</td>\n",
       "      <td>2.0</td>\n",
       "      <td>3</td>\n",
       "      <td>1</td>\n",
       "      <td>349909</td>\n",
       "      <td>21.0750</td>\n",
       "      <td>NaN</td>\n",
       "      <td>S</td>\n",
       "    </tr>\n",
       "    <tr>\n",
       "      <th>9</th>\n",
       "      <td>1</td>\n",
       "      <td>3</td>\n",
       "      <td>Johnson, Mrs. Oscar W (Elisabeth Vilhelmina Berg)</td>\n",
       "      <td>female</td>\n",
       "      <td>27.0</td>\n",
       "      <td>0</td>\n",
       "      <td>2</td>\n",
       "      <td>347742</td>\n",
       "      <td>11.1333</td>\n",
       "      <td>NaN</td>\n",
       "      <td>S</td>\n",
       "    </tr>\n",
       "    <tr>\n",
       "      <th>10</th>\n",
       "      <td>1</td>\n",
       "      <td>2</td>\n",
       "      <td>Nasser, Mrs. Nicholas (Adele Achem)</td>\n",
       "      <td>female</td>\n",
       "      <td>14.0</td>\n",
       "      <td>1</td>\n",
       "      <td>0</td>\n",
       "      <td>237736</td>\n",
       "      <td>30.0708</td>\n",
       "      <td>NaN</td>\n",
       "      <td>C</td>\n",
       "    </tr>\n",
       "  </tbody>\n",
       "</table>\n",
       "</div>"
      ],
      "text/plain": [
       "             Survived  Pclass  \\\n",
       "PassengerId                     \n",
       "1                   0       3   \n",
       "2                   1       1   \n",
       "3                   1       3   \n",
       "4                   1       1   \n",
       "5                   0       3   \n",
       "6                   0       3   \n",
       "7                   0       1   \n",
       "8                   0       3   \n",
       "9                   1       3   \n",
       "10                  1       2   \n",
       "\n",
       "                                                          Name     Sex   Age  \\\n",
       "PassengerId                                                                    \n",
       "1                                      Braund, Mr. Owen Harris    male  22.0   \n",
       "2            Cumings, Mrs. John Bradley (Florence Briggs Th...  female  38.0   \n",
       "3                                       Heikkinen, Miss. Laina  female  26.0   \n",
       "4                 Futrelle, Mrs. Jacques Heath (Lily May Peel)  female  35.0   \n",
       "5                                     Allen, Mr. William Henry    male  35.0   \n",
       "6                                             Moran, Mr. James    male   NaN   \n",
       "7                                      McCarthy, Mr. Timothy J    male  54.0   \n",
       "8                               Palsson, Master. Gosta Leonard    male   2.0   \n",
       "9            Johnson, Mrs. Oscar W (Elisabeth Vilhelmina Berg)  female  27.0   \n",
       "10                         Nasser, Mrs. Nicholas (Adele Achem)  female  14.0   \n",
       "\n",
       "             SibSp  Parch            Ticket     Fare Cabin Embarked  \n",
       "PassengerId                                                          \n",
       "1                1      0         A/5 21171   7.2500   NaN        S  \n",
       "2                1      0          PC 17599  71.2833   C85        C  \n",
       "3                0      0  STON/O2. 3101282   7.9250   NaN        S  \n",
       "4                1      0            113803  53.1000  C123        S  \n",
       "5                0      0            373450   8.0500   NaN        S  \n",
       "6                0      0            330877   8.4583   NaN        Q  \n",
       "7                0      0             17463  51.8625   E46        S  \n",
       "8                3      1            349909  21.0750   NaN        S  \n",
       "9                0      2            347742  11.1333   NaN        S  \n",
       "10               1      0            237736  30.0708   NaN        C  "
      ]
     },
     "execution_count": 2,
     "metadata": {},
     "output_type": "execute_result"
    }
   ],
   "source": [
    "data = pd.read_csv('../input/titanic/train.csv', index_col='PassengerId')\n",
    "data.head(n=10)"
   ]
  },
  {
   "cell_type": "code",
   "execution_count": 3,
   "metadata": {
    "execution": {
     "iopub.execute_input": "2020-11-20T09:23:00.530532Z",
     "iopub.status.busy": "2020-11-20T09:23:00.529282Z",
     "iopub.status.idle": "2020-11-20T09:23:00.550125Z",
     "shell.execute_reply": "2020-11-20T09:23:00.549217Z"
    },
    "papermill": {
     "duration": 0.048533,
     "end_time": "2020-11-20T09:23:00.550502",
     "exception": false,
     "start_time": "2020-11-20T09:23:00.501969",
     "status": "completed"
    },
    "tags": []
   },
   "outputs": [
    {
     "name": "stdout",
     "output_type": "stream",
     "text": [
      "<class 'pandas.core.frame.DataFrame'>\n",
      "Int64Index: 418 entries, 892 to 1309\n",
      "Data columns (total 10 columns):\n",
      " #   Column    Non-Null Count  Dtype  \n",
      "---  ------    --------------  -----  \n",
      " 0   Pclass    418 non-null    int64  \n",
      " 1   Name      418 non-null    object \n",
      " 2   Sex       418 non-null    object \n",
      " 3   Age       332 non-null    float64\n",
      " 4   SibSp     418 non-null    int64  \n",
      " 5   Parch     418 non-null    int64  \n",
      " 6   Ticket    418 non-null    object \n",
      " 7   Fare      417 non-null    float64\n",
      " 8   Cabin     91 non-null     object \n",
      " 9   Embarked  418 non-null    object \n",
      "dtypes: float64(2), int64(3), object(5)\n",
      "memory usage: 35.9+ KB\n"
     ]
    }
   ],
   "source": [
    "dataT = pd.read_csv('../input/titanic/test.csv', index_col='PassengerId')\n",
    "dataT.info()"
   ]
  },
  {
   "cell_type": "markdown",
   "metadata": {
    "papermill": {
     "duration": 0.033414,
     "end_time": "2020-11-20T09:23:00.611109",
     "exception": false,
     "start_time": "2020-11-20T09:23:00.577695",
     "status": "completed"
    },
    "tags": []
   },
   "source": [
    "## First of all, we need to delete the outfitting data, but I will add this in the next version\n",
    "## Then, we'll transform all the data \n",
    "Replace the unnecessary ones or delete them, and then splite the data and answers into x and y.\n"
   ]
  },
  {
   "cell_type": "markdown",
   "metadata": {
    "papermill": {
     "duration": 0.031859,
     "end_time": "2020-11-20T09:23:00.670974",
     "exception": false,
     "start_time": "2020-11-20T09:23:00.639115",
     "status": "completed"
    },
    "tags": []
   },
   "source": [
    "### Fill the missing values in the Age column (there are too many empty values in it to simply delete them. So fill them in with median for all age values)"
   ]
  },
  {
   "cell_type": "code",
   "execution_count": 4,
   "metadata": {
    "execution": {
     "iopub.execute_input": "2020-11-20T09:23:00.736205Z",
     "iopub.status.busy": "2020-11-20T09:23:00.735058Z",
     "iopub.status.idle": "2020-11-20T09:23:00.743063Z",
     "shell.execute_reply": "2020-11-20T09:23:00.744119Z"
    },
    "papermill": {
     "duration": 0.04527,
     "end_time": "2020-11-20T09:23:00.744356",
     "exception": false,
     "start_time": "2020-11-20T09:23:00.699086",
     "status": "completed"
    },
    "tags": []
   },
   "outputs": [],
   "source": [
    "data.Age.fillna(float(data.Age.median(axis=0)), inplace = True)\n",
    "dataT.Age.fillna(float(dataT.Age.median(axis=0)), inplace = True)"
   ]
  },
  {
   "cell_type": "markdown",
   "metadata": {
    "papermill": {
     "duration": 0.025016,
     "end_time": "2020-11-20T09:23:00.802236",
     "exception": false,
     "start_time": "2020-11-20T09:23:00.777220",
     "status": "completed"
    },
    "tags": []
   },
   "source": [
    "### Fill the missing values in train dataset's Embarked column with most common values"
   ]
  },
  {
   "cell_type": "code",
   "execution_count": 5,
   "metadata": {
    "execution": {
     "iopub.execute_input": "2020-11-20T09:23:00.856568Z",
     "iopub.status.busy": "2020-11-20T09:23:00.855421Z",
     "iopub.status.idle": "2020-11-20T09:23:00.859340Z",
     "shell.execute_reply": "2020-11-20T09:23:00.858664Z"
    },
    "papermill": {
     "duration": 0.03491,
     "end_time": "2020-11-20T09:23:00.859464",
     "exception": false,
     "start_time": "2020-11-20T09:23:00.824554",
     "status": "completed"
    },
    "tags": []
   },
   "outputs": [],
   "source": [
    "data.Embarked.fillna(data.Embarked.mode()[0], inplace = True)"
   ]
  },
  {
   "cell_type": "markdown",
   "metadata": {
    "papermill": {
     "duration": 0.022418,
     "end_time": "2020-11-20T09:23:00.905586",
     "exception": false,
     "start_time": "2020-11-20T09:23:00.883168",
     "status": "completed"
    },
    "tags": []
   },
   "source": [
    "### Fill the missing values in test dataset's Fare column with the median for all values"
   ]
  },
  {
   "cell_type": "code",
   "execution_count": 6,
   "metadata": {
    "execution": {
     "iopub.execute_input": "2020-11-20T09:23:00.967382Z",
     "iopub.status.busy": "2020-11-20T09:23:00.966088Z",
     "iopub.status.idle": "2020-11-20T09:23:00.970170Z",
     "shell.execute_reply": "2020-11-20T09:23:00.971022Z"
    },
    "papermill": {
     "duration": 0.04269,
     "end_time": "2020-11-20T09:23:00.971233",
     "exception": false,
     "start_time": "2020-11-20T09:23:00.928543",
     "status": "completed"
    },
    "tags": []
   },
   "outputs": [
    {
     "name": "stdout",
     "output_type": "stream",
     "text": [
      "<class 'pandas.core.frame.DataFrame'>\n",
      "Int64Index: 418 entries, 892 to 1309\n",
      "Data columns (total 10 columns):\n",
      " #   Column    Non-Null Count  Dtype  \n",
      "---  ------    --------------  -----  \n",
      " 0   Pclass    418 non-null    int64  \n",
      " 1   Name      418 non-null    object \n",
      " 2   Sex       418 non-null    object \n",
      " 3   Age       418 non-null    float64\n",
      " 4   SibSp     418 non-null    int64  \n",
      " 5   Parch     418 non-null    int64  \n",
      " 6   Ticket    418 non-null    object \n",
      " 7   Fare      418 non-null    float64\n",
      " 8   Cabin     91 non-null     object \n",
      " 9   Embarked  418 non-null    object \n",
      "dtypes: float64(2), int64(3), object(5)\n",
      "memory usage: 35.9+ KB\n"
     ]
    }
   ],
   "source": [
    "dataT.Fare.fillna(float(dataT.Fare.median(axis=0)), inplace = True)\n",
    "dataT.info()\n"
   ]
  },
  {
   "cell_type": "markdown",
   "metadata": {
    "papermill": {
     "duration": 0.024723,
     "end_time": "2020-11-20T09:23:01.020277",
     "exception": false,
     "start_time": "2020-11-20T09:23:00.995554",
     "status": "completed"
    },
    "tags": []
   },
   "source": [
    "### Will use only informative features and transform qualitative features into quantitative"
   ]
  },
  {
   "cell_type": "code",
   "execution_count": 7,
   "metadata": {
    "execution": {
     "iopub.execute_input": "2020-11-20T09:23:01.085017Z",
     "iopub.status.busy": "2020-11-20T09:23:01.083840Z",
     "iopub.status.idle": "2020-11-20T09:23:01.118127Z",
     "shell.execute_reply": "2020-11-20T09:23:01.117475Z"
    },
    "papermill": {
     "duration": 0.073353,
     "end_time": "2020-11-20T09:23:01.118269",
     "exception": false,
     "start_time": "2020-11-20T09:23:01.044916",
     "status": "completed"
    },
    "tags": []
   },
   "outputs": [
    {
     "name": "stdout",
     "output_type": "stream",
     "text": [
      "             Pclass  SibSp  Parch   Age     Fare  Sex_female  Sex_male  \\\n",
      "PassengerId                                                              \n",
      "1                 3      1      0  22.0   7.2500           0         1   \n",
      "2                 1      1      0  38.0  71.2833           1         0   \n",
      "3                 3      0      0  26.0   7.9250           1         0   \n",
      "4                 1      1      0  35.0  53.1000           1         0   \n",
      "5                 3      0      0  35.0   8.0500           0         1   \n",
      "...             ...    ...    ...   ...      ...         ...       ...   \n",
      "887               2      0      0  27.0  13.0000           0         1   \n",
      "888               1      0      0  19.0  30.0000           1         0   \n",
      "889               3      1      2  28.0  23.4500           1         0   \n",
      "890               1      0      0  26.0  30.0000           0         1   \n",
      "891               3      0      0  32.0   7.7500           0         1   \n",
      "\n",
      "             Embarked_C  Embarked_Q  Embarked_S  \n",
      "PassengerId                                      \n",
      "1                     0           0           1  \n",
      "2                     1           0           0  \n",
      "3                     0           0           1  \n",
      "4                     0           0           1  \n",
      "5                     0           0           1  \n",
      "...                 ...         ...         ...  \n",
      "887                   0           0           1  \n",
      "888                   0           0           1  \n",
      "889                   0           0           1  \n",
      "890                   1           0           0  \n",
      "891                   0           1           0  \n",
      "\n",
      "[891 rows x 10 columns]\n",
      "             Pclass  SibSp  Parch   Age      Fare  Sex_female  Sex_male  \\\n",
      "PassengerId                                                               \n",
      "892               3      0      0  34.5    7.8292           0         1   \n",
      "893               3      1      0  47.0    7.0000           1         0   \n",
      "894               2      0      0  62.0    9.6875           0         1   \n",
      "895               3      0      0  27.0    8.6625           0         1   \n",
      "896               3      1      1  22.0   12.2875           1         0   \n",
      "...             ...    ...    ...   ...       ...         ...       ...   \n",
      "1305              3      0      0  27.0    8.0500           0         1   \n",
      "1306              1      0      0  39.0  108.9000           1         0   \n",
      "1307              3      0      0  38.5    7.2500           0         1   \n",
      "1308              3      0      0  27.0    8.0500           0         1   \n",
      "1309              3      1      1  27.0   22.3583           0         1   \n",
      "\n",
      "             Embarked_C  Embarked_Q  Embarked_S  \n",
      "PassengerId                                      \n",
      "892                   0           1           0  \n",
      "893                   0           0           1  \n",
      "894                   0           1           0  \n",
      "895                   0           0           1  \n",
      "896                   0           0           1  \n",
      "...                 ...         ...         ...  \n",
      "1305                  0           0           1  \n",
      "1306                  1           0           0  \n",
      "1307                  0           0           1  \n",
      "1308                  0           0           1  \n",
      "1309                  1           0           0  \n",
      "\n",
      "[418 rows x 10 columns]\n"
     ]
    }
   ],
   "source": [
    "#Leave features of sex, family size, age and service class\n",
    "features = [\"Pclass\", \"Sex\", \"SibSp\", \"Parch\", \"Age\", \"Fare\", \"Embarked\"]\n",
    "X_train = pd.get_dummies(data[features])\n",
    "X_test = pd.get_dummies(dataT[features])\n",
    "\n",
    "y_train = data[\"Survived\"]\n",
    "\n",
    "print((X_train))\n",
    "print((X_test))"
   ]
  },
  {
   "cell_type": "markdown",
   "metadata": {
    "papermill": {
     "duration": 0.023226,
     "end_time": "2020-11-20T09:23:01.165892",
     "exception": false,
     "start_time": "2020-11-20T09:23:01.142666",
     "status": "completed"
    },
    "tags": []
   },
   "source": [
    "# Modeling"
   ]
  },
  {
   "cell_type": "markdown",
   "metadata": {
    "papermill": {
     "duration": 0.023398,
     "end_time": "2020-11-20T09:23:01.213046",
     "exception": false,
     "start_time": "2020-11-20T09:23:01.189648",
     "status": "completed"
    },
    "tags": []
   },
   "source": [
    "### LogisticRegression"
   ]
  },
  {
   "cell_type": "code",
   "execution_count": 8,
   "metadata": {
    "execution": {
     "iopub.execute_input": "2020-11-20T09:23:01.271447Z",
     "iopub.status.busy": "2020-11-20T09:23:01.270535Z",
     "iopub.status.idle": "2020-11-20T09:23:01.499791Z",
     "shell.execute_reply": "2020-11-20T09:23:01.498765Z"
    },
    "papermill": {
     "duration": 0.263171,
     "end_time": "2020-11-20T09:23:01.499970",
     "exception": false,
     "start_time": "2020-11-20T09:23:01.236799",
     "status": "completed"
    },
    "tags": []
   },
   "outputs": [
    {
     "name": "stdout",
     "output_type": "stream",
     "text": [
      "score_train_opt 0.7923681257014591\n",
      "param_opt {'C': 0.1}\n"
     ]
    }
   ],
   "source": [
    "param_grid = {'C': [0.01, 0.05, 0.1, 0.5, 1, 5, 10]}\n",
    "\n",
    "estimator = linear_model.LogisticRegression(solver='liblinear', penalty = 'l2', random_state = 1)\n",
    "optimizerLR = GridSearchCV(estimator, param_grid,  cv=3)                    \n",
    "optimizerLR.fit(X_train, y_train)\n",
    "\n",
    "print('score_train_opt', optimizerLR.best_score_)\n",
    "print('param_opt', optimizerLR.best_params_)\n"
   ]
  },
  {
   "cell_type": "markdown",
   "metadata": {
    "papermill": {
     "duration": 0.023907,
     "end_time": "2020-11-20T09:23:01.548701",
     "exception": false,
     "start_time": "2020-11-20T09:23:01.524794",
     "status": "completed"
    },
    "tags": []
   },
   "source": [
    "### RidgeClassifier "
   ]
  },
  {
   "cell_type": "code",
   "execution_count": 9,
   "metadata": {
    "execution": {
     "iopub.execute_input": "2020-11-20T09:23:01.608100Z",
     "iopub.status.busy": "2020-11-20T09:23:01.607236Z",
     "iopub.status.idle": "2020-11-20T09:23:01.895698Z",
     "shell.execute_reply": "2020-11-20T09:23:01.894797Z"
    },
    "papermill": {
     "duration": 0.32246,
     "end_time": "2020-11-20T09:23:01.895853",
     "exception": false,
     "start_time": "2020-11-20T09:23:01.573393",
     "status": "completed"
    },
    "tags": []
   },
   "outputs": [
    {
     "name": "stdout",
     "output_type": "stream",
     "text": [
      "score_train_opt 0.7901234567901234\n",
      "param_opt {'alpha': 10}\n"
     ]
    }
   ],
   "source": [
    "param_grid = {'alpha': [0.01, 0.05, 0.1, 0.5, 1, 2, 5, 10]}\n",
    "\n",
    "estimator = linear_model.RidgeClassifier( random_state = 1)\n",
    "optimizerR = GridSearchCV(estimator, param_grid,  cv=3)                    \n",
    "optimizerR.fit(X_train, y_train)\n",
    "\n",
    "print('score_train_opt', optimizerR.best_score_)\n",
    "print('param_opt', optimizerR.best_params_)"
   ]
  },
  {
   "cell_type": "markdown",
   "metadata": {
    "papermill": {
     "duration": 0.024926,
     "end_time": "2020-11-20T09:23:01.949636",
     "exception": false,
     "start_time": "2020-11-20T09:23:01.924710",
     "status": "completed"
    },
    "tags": []
   },
   "source": [
    "### DecisionTree"
   ]
  },
  {
   "cell_type": "code",
   "execution_count": 10,
   "metadata": {
    "execution": {
     "iopub.execute_input": "2020-11-20T09:23:02.014422Z",
     "iopub.status.busy": "2020-11-20T09:23:02.012954Z",
     "iopub.status.idle": "2020-11-20T09:23:03.788421Z",
     "shell.execute_reply": "2020-11-20T09:23:03.787257Z"
    },
    "papermill": {
     "duration": 1.812899,
     "end_time": "2020-11-20T09:23:03.788625",
     "exception": false,
     "start_time": "2020-11-20T09:23:01.975726",
     "status": "completed"
    },
    "tags": []
   },
   "outputs": [
    {
     "name": "stdout",
     "output_type": "stream",
     "text": [
      "score_train_opt 0.809203142536476\n",
      "param_opt {'max_depth': 3, 'min_samples_leaf': 2}\n"
     ]
    }
   ],
   "source": [
    "param_grid = {'max_depth': list(range(1, 10)), 'min_samples_leaf': list(range(2, 10))}#, 'class_weightdict': [\"balanced\", \"None\"]}\n",
    "\n",
    "estimator = tree.DecisionTreeClassifier(random_state = 1)\n",
    "optimizerDT = GridSearchCV(estimator, param_grid,  cv=3)                    \n",
    "optimizerDT.fit(X_train, y_train)\n",
    "\n",
    "print('score_train_opt', optimizerDT.best_score_)\n",
    "print('param_opt', optimizerDT.best_params_)\n"
   ]
  },
  {
   "cell_type": "markdown",
   "metadata": {
    "papermill": {
     "duration": 0.026141,
     "end_time": "2020-11-20T09:23:03.840983",
     "exception": false,
     "start_time": "2020-11-20T09:23:03.814842",
     "status": "completed"
    },
    "tags": []
   },
   "source": [
    "### Модель RandomForestClassifier"
   ]
  },
  {
   "cell_type": "code",
   "execution_count": 11,
   "metadata": {
    "execution": {
     "iopub.execute_input": "2020-11-20T09:23:03.905029Z",
     "iopub.status.busy": "2020-11-20T09:23:03.903889Z",
     "iopub.status.idle": "2020-11-20T09:32:51.014616Z",
     "shell.execute_reply": "2020-11-20T09:32:51.015515Z"
    },
    "papermill": {
     "duration": 587.149231,
     "end_time": "2020-11-20T09:32:51.015746",
     "exception": false,
     "start_time": "2020-11-20T09:23:03.866515",
     "status": "completed"
    },
    "tags": []
   },
   "outputs": [
    {
     "name": "stdout",
     "output_type": "stream",
     "text": [
      "score_train_opt 0.830527497194164\n",
      "param_opt {'max_depth': 8, 'min_weight_fraction_leaf': 0.01, 'n_estimators': 10}\n"
     ]
    }
   ],
   "source": [
    "param_grid = {'max_depth': list(range(1, 10)), 'n_estimators': list(range(10, 100, 5)), 'min_weight_fraction_leaf': [0.001,  0.005, 0.01, 0.03, 0.05, 0.07, 0.1, 0.3, 0.5] } \n",
    "\n",
    "estimator = ensemble.RandomForestClassifier( random_state = 1)\n",
    "optimizerRF = GridSearchCV(estimator, param_grid,  cv=3)                    \n",
    "optimizerRF.fit(X_train, y_train)\n",
    "\n",
    "print('score_train_opt', optimizerRF.best_score_)\n",
    "print('param_opt', optimizerRF.best_params_)\n"
   ]
  },
  {
   "cell_type": "markdown",
   "metadata": {
    "papermill": {
     "duration": 0.025517,
     "end_time": "2020-11-20T09:32:51.068966",
     "exception": false,
     "start_time": "2020-11-20T09:32:51.043449",
     "status": "completed"
    },
    "tags": []
   },
   "source": [
    "#### Стох.градиентный спуск"
   ]
  },
  {
   "cell_type": "code",
   "execution_count": 12,
   "metadata": {
    "execution": {
     "iopub.execute_input": "2020-11-20T09:32:51.126956Z",
     "iopub.status.busy": "2020-11-20T09:32:51.126068Z",
     "iopub.status.idle": "2020-11-20T09:32:51.132211Z",
     "shell.execute_reply": "2020-11-20T09:32:51.131563Z"
    },
    "papermill": {
     "duration": 0.037261,
     "end_time": "2020-11-20T09:32:51.132346",
     "exception": false,
     "start_time": "2020-11-20T09:32:51.095085",
     "status": "completed"
    },
    "tags": []
   },
   "outputs": [
    {
     "data": {
      "text/plain": [
       "'classifier = linear_model.SGDClassifier(random_state = 0, max_iter=1000)\\nclassifier.fit(X_train, y_train)\\npredictions = classifier.predict(X_test)\\nmetrics.accuracy_score(y_test, predictions)'"
      ]
     },
     "execution_count": 12,
     "metadata": {},
     "output_type": "execute_result"
    }
   ],
   "source": [
    "\"\"\"classifier = linear_model.SGDClassifier(random_state = 0, max_iter=1000)\n",
    "classifier.fit(X_train, y_train)\n",
    "predictions = classifier.predict(X_test)\n",
    "metrics.accuracy_score(y_test, predictions)\"\"\""
   ]
  },
  {
   "cell_type": "markdown",
   "metadata": {
    "papermill": {
     "duration": 0.025721,
     "end_time": "2020-11-20T09:32:51.184271",
     "exception": false,
     "start_time": "2020-11-20T09:32:51.158550",
     "status": "completed"
    },
    "tags": []
   },
   "source": [
    "### Модель GradientBoosting"
   ]
  },
  {
   "cell_type": "code",
   "execution_count": 13,
   "metadata": {
    "execution": {
     "iopub.execute_input": "2020-11-20T09:32:51.250648Z",
     "iopub.status.busy": "2020-11-20T09:32:51.249453Z",
     "iopub.status.idle": "2020-11-20T09:34:40.463340Z",
     "shell.execute_reply": "2020-11-20T09:34:40.464352Z"
    },
    "papermill": {
     "duration": 109.254213,
     "end_time": "2020-11-20T09:34:40.464641",
     "exception": false,
     "start_time": "2020-11-20T09:32:51.210428",
     "status": "completed"
    },
    "tags": []
   },
   "outputs": [
    {
     "name": "stdout",
     "output_type": "stream",
     "text": [
      "score_train_opt 0.8361391694725029\n",
      "param_opt {'learning_rate': 0.1, 'max_depth': 9, 'n_estimators': 60}\n"
     ]
    }
   ],
   "source": [
    "param_grid = {'max_depth': list(range(1, 10)), 'learning_rate': [0.01, 0.05, 0.1, 0.5, 1, 2, 5, 10], 'n_estimators': list(range(10, 100, 5)) }\n",
    "estimator = xgb.XGBClassifier( random_state = 1, min_child_weight=3)\n",
    "optimizerXGB = GridSearchCV(estimator, param_grid,  cv=3)                    \n",
    "optimizerXGB.fit(X_train, y_train)\n",
    "\n",
    "print('score_train_opt', optimizerXGB.best_score_)\n",
    "print('param_opt', optimizerXGB.best_params_)\n"
   ]
  },
  {
   "cell_type": "code",
   "execution_count": 14,
   "metadata": {
    "execution": {
     "iopub.execute_input": "2020-11-20T09:34:40.539743Z",
     "iopub.status.busy": "2020-11-20T09:34:40.538647Z",
     "iopub.status.idle": "2020-11-20T09:34:40.564169Z",
     "shell.execute_reply": "2020-11-20T09:34:40.564906Z"
    },
    "papermill": {
     "duration": 0.068184,
     "end_time": "2020-11-20T09:34:40.565095",
     "exception": false,
     "start_time": "2020-11-20T09:34:40.496911",
     "status": "completed"
    },
    "tags": []
   },
   "outputs": [
    {
     "name": "stdout",
     "output_type": "stream",
     "text": [
      "<bound method DataFrame.info of              Survived\n",
      "PassengerId          \n",
      "892                 0\n",
      "893                 1\n",
      "894                 0\n",
      "895                 0\n",
      "896                 1\n",
      "...               ...\n",
      "1305                0\n",
      "1306                1\n",
      "1307                0\n",
      "1308                0\n",
      "1309                0\n",
      "\n",
      "[418 rows x 1 columns]>\n",
      "             Survived\n",
      "PassengerId          \n",
      "892                 0\n",
      "893                 0\n",
      "894                 0\n",
      "895                 0\n",
      "896                 0\n",
      "...               ...\n",
      "1305                0\n",
      "1306                1\n",
      "1307                0\n",
      "1308                0\n",
      "1309                0\n",
      "\n",
      "[418 rows x 1 columns]\n"
     ]
    }
   ],
   "source": [
    "y = pd.read_csv('../input/titanic/gender_submission.csv', index_col='PassengerId')\n",
    "print(y.info)\n",
    "del y['Survived']\n",
    "y['Survived']=optimizerXGB.predict(X_test)\n",
    "print(y)"
   ]
  },
  {
   "cell_type": "code",
   "execution_count": 15,
   "metadata": {
    "execution": {
     "iopub.execute_input": "2020-11-20T09:34:40.637686Z",
     "iopub.status.busy": "2020-11-20T09:34:40.636623Z",
     "iopub.status.idle": "2020-11-20T09:34:40.919389Z",
     "shell.execute_reply": "2020-11-20T09:34:40.918775Z"
    },
    "papermill": {
     "duration": 0.321949,
     "end_time": "2020-11-20T09:34:40.919524",
     "exception": false,
     "start_time": "2020-11-20T09:34:40.597575",
     "status": "completed"
    },
    "tags": []
   },
   "outputs": [],
   "source": [
    "y.to_csv(\"/kaggle/working/Titanic_answer.csv\")"
   ]
  }
 ],
 "metadata": {
  "kernelspec": {
   "display_name": "Python 3",
   "language": "python",
   "name": "python3"
  },
  "language_info": {
   "codemirror_mode": {
    "name": "ipython",
    "version": 3
   },
   "file_extension": ".py",
   "mimetype": "text/x-python",
   "name": "python",
   "nbconvert_exporter": "python",
   "pygments_lexer": "ipython3",
   "version": "3.7.6"
  },
  "papermill": {
   "duration": 708.687726,
   "end_time": "2020-11-20T09:34:41.057218",
   "environment_variables": {},
   "exception": null,
   "input_path": "__notebook__.ipynb",
   "output_path": "__notebook__.ipynb",
   "parameters": {},
   "start_time": "2020-11-20T09:22:52.369492",
   "version": "2.1.0"
  }
 },
 "nbformat": 4,
 "nbformat_minor": 4
}
